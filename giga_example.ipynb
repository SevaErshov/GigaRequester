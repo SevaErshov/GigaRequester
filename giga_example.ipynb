{
 "cells": [
  {
   "cell_type": "code",
   "execution_count": 33,
   "id": "3f8e7118",
   "metadata": {},
   "outputs": [],
   "source": [
    "import getpass\n",
    "import os\n",
    "from dotenv import find_dotenv, load_dotenv\n",
    "from langchain_gigachat.chat_models import GigaChat\n",
    "\n",
    "load_dotenv(find_dotenv())\n",
    "\n",
    "\n",
    "model = GigaChat(\n",
    "    model='GigaChat-2',\n",
    "    verify_ssl_certs=False,\n",
    "    max_tokens=2500,\n",
    ")"
   ]
  },
  {
   "cell_type": "code",
   "execution_count": 34,
   "id": "0c1a17f0",
   "metadata": {},
   "outputs": [],
   "source": [
    "database = {\n",
    "    \"schema\": \"crm\",\n",
    "    \"tables\": {\n",
    "        \"customers\": {\n",
    "            \"description\": \"Содержит общую информацию о клиентах.\",\n",
    "            \"columns\": {\n",
    "                \"customer_id\": \"Целочисленный идентификатор клиента.\",\n",
    "                \"first_name\": \"Имя клиента (строка).\",\n",
    "                \"last_name\": \"Фамилия клиента (строка).\",\n",
    "                \"birth_year\": \"Год рождения клиента (целое число).\",\n",
    "                \"registration_year\": \"Год регистрации в системе (целое число).\"\n",
    "            }\n",
    "        },\n",
    "        \"contacts\": {\n",
    "            \"description\": \"Контактная информация клиентов.\",\n",
    "            \"columns\": {\n",
    "                \"contact_id\": \"Целочисленный идентификатор записи контакта.\",\n",
    "                \"customer_id\": \"Целочисленный ID клиента, к которому относится контакт.\",\n",
    "                \"email\": \"Электронная почта (строка).\",\n",
    "                \"phone\": \"Номер телефона (строка).\"\n",
    "            }\n",
    "        },\n",
    "        \"purchases\": {\n",
    "            \"description\": \"Информация о покупках клиентов.\",\n",
    "            \"columns\": {\n",
    "                \"purchase_id\": \"Целочисленный идентификатор записи о покупке.\",\n",
    "                \"customer_id\": \"Целочисленный ID клиента, который совершил покупку.\",\n",
    "                \"purchase_year\": \"Год покупки (целое число).\",\n",
    "                \"amount_rub\": \"Сумма покупки в рублях (целое число).\",\n",
    "                \"product_type\": \"Тип продукта (строка).\"\n",
    "            }\n",
    "        }\n",
    "    }\n",
    "}\n"
   ]
  },
  {
   "cell_type": "code",
   "execution_count": 35,
   "id": "a191f906",
   "metadata": {},
   "outputs": [],
   "source": [
    "from typing import Dict\n",
    "\n",
    "from langchain.tools import tool\n",
    "\n",
    "\n",
    "@tool\n",
    "def get_all_table_descriptions() -> str:\n",
    "    \"\"\"Возвращает названия всех таблиц в базе данных и их описание\"\"\"\n",
    "    print(\"\\033[92m\" + \"Бот запросил информацию о таблицах\" + \"\\033[0m\")\n",
    "    all_tables = database['tables']\n",
    "    return \" | \".join([f'Таблица: {table_name}, Описание: {table_info[\"description\"]}' for table_name, table_info in all_tables.items()])\n",
    "\n",
    "\n",
    "@tool\n",
    "def get_table_info(table_name: str) -> Dict:\n",
    "    \"\"\"Возвращает список полей и их описание для указанной таблицы\"\"\"\n",
    "    print(\"\\033[92m\" + \"Бот запросил информацию о списке полей в таблице\" + \"\\033[0m\")\n",
    "    if table_name not in database['tables']:\n",
    "        raise ValueError(f\"Таблица '{table_name}' не найдена в базе данных.\")\n",
    "    table_info = database['tables'][table_name]\n",
    "    return table_info"
   ]
  },
  {
   "cell_type": "code",
   "execution_count": 44,
   "id": "f0d1087f",
   "metadata": {},
   "outputs": [],
   "source": [
    "system_prompt = \"\"\"\n",
    "Ты - помощник-аналитик, который отвечает на вопросы о базе данных (postgres), содержащую информацию о клиентах.\n",
    "Ты оперируешь языком программирования SQL и в зависимости от вопроса, можешь использовать инструменты для получения информации о базе данных.\n",
    "Ты умеешь писать оптимизированные SQL-запросы, которые быстро отрабатывают на больших объемах данных.\n",
    "\n",
    "Ты должен уточнять всю необходимую информацию у пользователя и при помощи инструментов. \n",
    "Тебе даны инструменты, которые помогут получить информацию о базе данных:\n",
    "1. get_all_table_descriptions - возвращает названия всех таблиц в базе данных и их описание.\n",
    "2. get_table_info - возвращает список полей и их описание для указанной таблицы.\n",
    "Ты должен использовать эти инструменты, чтобы получить всю необходимую информацию для ответа на вопрос пользователя.\n",
    "\n",
    "Получив необходимую информацию, тебе нужно сформировать SQL-запрос. \n",
    "Сначала необходимо спланировать формирование запроса, прописать, какие таблицы и поля тебе необходимы и зачем. Затем сформируй SQL-запрос (postgres).\n",
    "ВАЖНО! В ответ на вопрос ты должен предоставить только SQL-запрос, без каких-либо пояснений или дополнительной информации.\n",
    "ВАЖНО! Прежде чем отправить ответ, обязательно проверь, что запрос корректен и не содержит ошибок.\n",
    "\"\"\""
   ]
  },
  {
   "cell_type": "code",
   "execution_count": 45,
   "id": "163c7dd1",
   "metadata": {},
   "outputs": [],
   "source": [
    "tools = [get_all_table_descriptions, get_table_info]"
   ]
  },
  {
   "cell_type": "code",
   "execution_count": 46,
   "id": "b35691c2",
   "metadata": {},
   "outputs": [],
   "source": [
    "from langgraph.prebuilt import create_react_agent\n",
    "\n",
    "agent = create_react_agent(model,\n",
    "                           tools=tools,\n",
    "                           prompt=system_prompt)"
   ]
  },
  {
   "cell_type": "markdown",
   "id": "7febcaeb",
   "metadata": {},
   "source": [
    "Пример запроса:\n",
    "\n",
    "Для всех клиентов 2000 года рождения выведи среднюю сумму покупок для каждого типа продукта. Отсортируй по продукту"
   ]
  },
  {
   "cell_type": "code",
   "execution_count": 47,
   "id": "9ec73a46",
   "metadata": {},
   "outputs": [
    {
     "name": "stdout",
     "output_type": "stream",
     "text": [
      "Пользователь:  Для всех клиентов 2000 года рождения выведи среднюю сумму покупок для каждого типа продукта. Отсортируй по продукту\n",
      "\u001b[92mБот запросил информацию о таблицах\u001b[0m\n",
      "\u001b[92mБот запросил информацию о списке полей в таблице\u001b[0m\n",
      "\u001b[92mБот запросил информацию о списке полей в таблице\u001b[0m\n",
      "Ассистент:  ```sql\n",
      "SELECT product_type, AVG(amount_rub) as avg_purchase_amount\n",
      "FROM purchases\n",
      "JOIN customers ON purchases.customer_id = customers.customer_id\n",
      "WHERE customers.birth_year = 2000\n",
      "GROUP BY product_type\n",
      "ORDER BY product_type;\n",
      "```\n",
      "Пользователь:  Выведи суммарный объем продаж в течение всех лет, отсортируй по годам\n",
      "\u001b[92mБот запросил информацию о таблицах\u001b[0m\n",
      "\u001b[92mБот запросил информацию о списке полей в таблице\u001b[0m\n",
      "Ассистент:  SELECT purchase_year, SUM(amount_rub) AS total_sales\n",
      "FROM purchases\n",
      "GROUP BY purchase_year\n",
      "ORDER BY purchase_year;\n",
      "Пользователь:  \n"
     ]
    }
   ],
   "source": [
    "while(True):\n",
    "    rq = input(\"\\Пользователь: \")\n",
    "    print(\"Пользователь: \", rq)\n",
    "    if rq == \"\":\n",
    "        break\n",
    "    resp = agent.invoke({\"messages\": [(\"user\", rq)]})\n",
    "    print(\"Ассистент: \", resp[\"messages\"][-1].content)"
   ]
  },
  {
   "cell_type": "code",
   "execution_count": null,
   "id": "17be3fbc",
   "metadata": {},
   "outputs": [],
   "source": []
  }
 ],
 "metadata": {
  "kernelspec": {
   "display_name": "agents-course-py3.13",
   "language": "python",
   "name": "python3"
  },
  "language_info": {
   "codemirror_mode": {
    "name": "ipython",
    "version": 3
   },
   "file_extension": ".py",
   "mimetype": "text/x-python",
   "name": "python",
   "nbconvert_exporter": "python",
   "pygments_lexer": "ipython3",
   "version": "3.13.2"
  }
 },
 "nbformat": 4,
 "nbformat_minor": 5
}
